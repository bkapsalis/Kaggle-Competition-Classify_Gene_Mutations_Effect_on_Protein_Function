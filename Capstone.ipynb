{
 "cells": [
  {
   "cell_type": "code",
   "execution_count": 16,
   "metadata": {
    "collapsed": false
   },
   "outputs": [
    {
     "name": "stdout",
     "output_type": "stream",
     "text": [
      "          Date      Open      High       Low      Close  Adj Close     Volume\n",
      "10  2000-07-07  3.756693  3.915179  3.723214  54.437500   3.511954   65900800\n",
      "11  2000-07-10  3.863836  4.160714  3.839286  57.125000   3.685333   99449000\n",
      "12  2000-07-11  4.071429  4.232143  3.959821  56.937500   3.673237   89474000\n",
      "13  2000-07-12  4.151786  4.209821  4.026786  58.875000   3.798232   56358400\n",
      "14  2000-07-13  4.178571  4.330357  3.910714  56.500000   3.645012  111414800\n",
      "15  2000-07-14  4.080357  4.214286  4.062500  57.687500   3.721623   47569200\n",
      "16  2000-07-17  4.160714  4.200893  4.080357  58.312504   3.761944   65000600\n",
      "17  2000-07-18  4.178571  4.205357  4.062500  57.250000   3.693398   79601200\n",
      "18  2000-07-19  3.941964  4.058036  3.696429  52.687500   3.399055  114468200\n",
      "19  2000-07-20  3.928571  4.075893  3.866071  55.125000   3.556307  116393200\n",
      "20  2000-07-21  3.882807  3.973214  3.781250  53.562500   3.455504   49058800\n"
     ]
    }
   ],
   "source": [
    "import pandas as pd\n",
    "\n",
    "def test_run():\n",
    "    df = pd.read_csv(\"data/AAPL.csv\")\n",
    "    #print df.head() #print entire dataframe top 5\n",
    "    #print df.tail()\n",
    "    print df[10:21]#prints row 10 through 20*\n",
    "    \n",
    "if __name__ ==  \"__main__\":\n",
    "    test_run()"
   ]
  },
  {
   "cell_type": "code",
   "execution_count": 21,
   "metadata": {
    "collapsed": false
   },
   "outputs": [
    {
     "name": "stdout",
     "output_type": "stream",
     "text": [
      "Max Close\n",
      "AAPL 702.100037\n",
      "Mean Volume\n",
      "AAPL 127610401.824 \n",
      "\n",
      "Max Close\n",
      "IBM 155.380005\n",
      "Mean Volume\n",
      "IBM 3892381.81818 \n",
      "\n"
     ]
    }
   ],
   "source": [
    "\n",
    "def get_max_close(symbol):\n",
    "    \"\"\"Return the max close for stock indicated by symbol.\n",
    "    \n",
    "    Note: Data for a stock is stored in file: data/<symbol>.csv\n",
    "    \"\"\"\n",
    "    df = pd.read_csv(\"data/{}.csv\".format(symbol))  # read in data\n",
    "\n",
    "    return  df['Close'].max()\n",
    "    \n",
    "    \n",
    "def get_mean_volume(symbol):\n",
    "    \"\"\"Return the mean volume for stock indicated by symbol.\n",
    "    \n",
    "    Note: Data for a stock is stored in file: data/<symbol>.csv\n",
    "    \"\"\"\n",
    "    df = pd.read_csv(\"data/{}.csv\".format(symbol))  # read in data\n",
    "    return df['Volume'].mean()\n",
    "\n",
    "\n",
    "def test_run():\n",
    "    \"\"\"Function called by Test Run.\"\"\"\n",
    "    for symbol in ['AAPL', 'IBM']:\n",
    "        print \"Max Close\"\n",
    "        print symbol, get_max_close(symbol)\n",
    "        print \"Mean Volume\"\n",
    "        print symbol, get_mean_volume(symbol),'\\n'\n",
    "\n",
    "\n",
    "if __name__ == \"__main__\":\n",
    "    test_run()\n",
    "    \n",
    "    \n",
    "    \n",
    "\n"
   ]
  },
  {
   "cell_type": "code",
   "execution_count": 3,
   "metadata": {
    "collapsed": false
   },
   "outputs": [
    {
     "name": "stdout",
     "output_type": "stream",
     "text": [
      "0         3.467601\n",
      "1         3.334541\n",
      "2         3.491793\n",
      "3         3.338573\n",
      "4         3.511954\n",
      "5         3.306317\n",
      "6         3.378895\n",
      "7         3.439375\n",
      "8         3.330509\n",
      "9         3.342606\n",
      "10        3.511954\n",
      "11        3.685333\n",
      "12        3.673237\n",
      "13        3.798232\n",
      "14        3.645012\n",
      "15        3.721623\n",
      "16        3.761944\n",
      "17        3.693398\n",
      "18        3.399055\n",
      "19        3.556307\n",
      "20        3.455504\n",
      "21        3.141001\n",
      "22        3.229707\n",
      "23        3.229707\n",
      "24        3.354702\n",
      "25        3.116808\n",
      "26        3.278092\n",
      "27        3.181322\n",
      "28        3.048262\n",
      "29        3.096648\n",
      "           ...    \n",
      "4247    153.949997\n",
      "4248    156.100006\n",
      "4249    155.699997\n",
      "4250    155.470001\n",
      "4251    150.250000\n",
      "4252    152.539993\n",
      "4253    153.059998\n",
      "4254    153.990005\n",
      "4255    153.800003\n",
      "4256    153.339996\n",
      "4257    153.869995\n",
      "4258    153.610001\n",
      "4259    153.669998\n",
      "4260    152.759995\n",
      "4261    153.179993\n",
      "4262    155.449997\n",
      "4263    153.929993\n",
      "4264    154.449997\n",
      "4265    155.369995\n",
      "4266    154.990005\n",
      "4267    148.979996\n",
      "4268    145.419998\n",
      "4269    146.589996\n",
      "4270    145.160004\n",
      "4271    144.289993\n",
      "4272    142.270004\n",
      "4273    146.339996\n",
      "4274    145.009995\n",
      "4275    145.869995\n",
      "4276    145.630005\n",
      "Name: Adj Close, dtype: float64\n"
     ]
    }
   ],
   "source": [
    "import pandas as pd\n",
    "import matplotlib.pyplot as plt\n",
    "\n",
    "def test_run():\n",
    "    df = pd.read_csv(\"data/AAPL.csv\")\n",
    "    print df['Adj Close']\n",
    "    df['Adj Close'].plot()\n",
    "    plt.show()  # must be called to show plots\n",
    "\n",
    "\n",
    "if __name__ == \"__main__\":\n",
    "    test_run()\n"
   ]
  },
  {
   "cell_type": "code",
   "execution_count": 4,
   "metadata": {
    "collapsed": true
   },
   "outputs": [],
   "source": [
    "import pandas as pd\n",
    "import matplotlib.pyplot as plt\n",
    "\n",
    "def test_run():\n",
    "    df = pd.read_csv(\"data/IBM.csv\")\n",
    "    df['High'].plot()\n",
    "    plt.show()  # must be called to show plots\n",
    "\n",
    "\n",
    "if __name__ == \"__main__\":\n",
    "    test_run()"
   ]
  },
  {
   "cell_type": "code",
   "execution_count": 6,
   "metadata": {
    "collapsed": true
   },
   "outputs": [],
   "source": [
    "def test_run():\n",
    "    df = pd.read_csv(\"data/AAPL.csv\")\n",
    "    df[['Close', 'Adj Close']].plot()\n",
    "    plt.show()  # must be called to show plots\n",
    "\n",
    "\n",
    "if __name__ == \"__main__\":\n",
    "    test_run()"
   ]
  },
  {
   "cell_type": "code",
   "execution_count": null,
   "metadata": {
    "collapsed": true
   },
   "outputs": [],
   "source": []
  }
 ],
 "metadata": {
  "kernelspec": {
   "display_name": "Python [Root]",
   "language": "python",
   "name": "Python [Root]"
  },
  "language_info": {
   "codemirror_mode": {
    "name": "ipython",
    "version": 2
   },
   "file_extension": ".py",
   "mimetype": "text/x-python",
   "name": "python",
   "nbconvert_exporter": "python",
   "pygments_lexer": "ipython2",
   "version": "2.7.12"
  }
 },
 "nbformat": 4,
 "nbformat_minor": 0
}
